{
 "cells": [
  {
   "cell_type": "markdown",
   "metadata": {},
   "source": [
    "## Doppler Estimation Excercises"
   ]
  },
  {
   "cell_type": "markdown",
   "metadata": {},
   "source": [
    "### complete the TODOs to calculate the velocity in m/s of four targets with the following doppler frequency shifts: [3 KHz, -4.5 KHz, 11 KHz, -3 KHz]."
   ]
  },
  {
   "cell_type": "markdown",
   "metadata": {},
   "source": [
    "#### You can use the following parameter values:\n",
    "\n",
    "   * The radar's operating frequency = 77 GHz  \n",
    "   * The speed of light c = 3*10^8"
   ]
  },
  {
   "cell_type": "code",
   "execution_count": 1,
   "metadata": {},
   "outputs": [],
   "source": [
    "c = 3e8   #Speed of propogation \n",
    "frequency = 77e9  # Operating frequency in Hz"
   ]
  },
  {
   "cell_type": "code",
   "execution_count": 8,
   "metadata": {},
   "outputs": [
    {
     "name": "stdout",
     "output_type": "stream",
     "text": [
      "The wavelength: 3.896103896103896 mm \n"
     ]
    }
   ],
   "source": [
    "# TODO: Calculate the wavelength \n",
    "lambda_= c/frequency\n",
    "print(f\"The wavelength: {lambda_*1e3} mm \")\n"
   ]
  },
  {
   "cell_type": "code",
   "execution_count": 9,
   "metadata": {},
   "outputs": [],
   "source": [
    "# TODO: Define the doppler shifts in Hz using the information from above\n",
    "fd = [3e3, -4.5e3, 11e3, -3e3] "
   ]
  },
  {
   "cell_type": "code",
   "execution_count": 10,
   "metadata": {},
   "outputs": [],
   "source": [
    "# TODO: Calculate the velocity of the targets fd = 2*vr/lambda\n",
    "# vr = fd/2 * lambda \n",
    "\n",
    "vr = [(f/2)*lambda_ for f in fd]"
   ]
  },
  {
   "cell_type": "code",
   "execution_count": 12,
   "metadata": {},
   "outputs": [
    {
     "name": "stdout",
     "output_type": "stream",
     "text": [
      "For the targets [3000.0, -4500.0, 11000.0, -3000.0], the velocities are :[5.8441558441558445, -8.766233766233766, 21.428571428571427, -5.8441558441558445] m/s\n"
     ]
    }
   ],
   "source": [
    "# TODO: Display results \n",
    "print(f\"For the targets {fd}, the velocities are :{vr} m/s\")\n"
   ]
  }
 ],
 "metadata": {
  "kernelspec": {
   "display_name": "Python 3",
   "language": "python",
   "name": "python3"
  },
  "language_info": {
   "codemirror_mode": {
    "name": "ipython",
    "version": 3
   },
   "file_extension": ".py",
   "mimetype": "text/x-python",
   "name": "python",
   "nbconvert_exporter": "python",
   "pygments_lexer": "ipython3",
   "version": "3.10.11"
  }
 },
 "nbformat": 4,
 "nbformat_minor": 2
}
