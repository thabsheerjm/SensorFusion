{
 "cells": [
  {
   "cell_type": "markdown",
   "metadata": {},
   "source": [
    "### The following code provides some parameters which can be used in the range equation given above. Your task is to complete the TODOs in the following code:\n",
    "\n",
    "    1. Use the speed of light c to compute the wavelength λ.  \n",
    "    2. Use the results from part 1. along with the range equation to compute the radar range.  \n",
    "    3. Print the range to screen."
   ]
  },
  {
   "cell_type": "code",
   "execution_count": 19,
   "metadata": {},
   "outputs": [],
   "source": [
    "import numpy as np \n",
    "# Operating frequency (Hz)\n",
    "fc = 77.0e9\n",
    "\n",
    "#Transmitted power (W)\n",
    "Ps = 3e-3\n",
    "\n",
    "#Antenna Gain (linear)\n",
    "G = 10_000\n",
    "\n",
    "#Minimum Detectable Power \n",
    "Pe =  1e-10 \n",
    "\n",
    "#RCS of  a Car \n",
    "RCS =  100\n",
    "\n",
    "# Speed of light\n",
    "c = 3*1e8 #m/s^2\n"
   ]
  },
  {
   "cell_type": "markdown",
   "metadata": {},
   "source": [
    "### TODO 1 : Calculate the wavelength"
   ]
  },
  {
   "cell_type": "code",
   "execution_count": 20,
   "metadata": {},
   "outputs": [
    {
     "name": "stdout",
     "output_type": "stream",
     "text": [
      "Wavelength : 3.896103896103896 mm \n"
     ]
    }
   ],
   "source": [
    "lambda_ = c / fc \n",
    "print(f\"Wavelength : {lambda_*1e3} mm \")"
   ]
  },
  {
   "cell_type": "markdown",
   "metadata": {},
   "source": [
    "### TODO 2: Measure the Maximum Range a Radar can see"
   ]
  },
  {
   "cell_type": "code",
   "execution_count": 22,
   "metadata": {},
   "outputs": [
    {
     "name": "stdout",
     "output_type": "stream",
     "text": [
      "The maximum Range the radar can see is 218.87097896807293 m\n"
     ]
    }
   ],
   "source": [
    "R = ((Ps * (G**2) * (lambda_)**2 * RCS)/(Pe*((4*np.pi)**3)))**0.25\n",
    "print(f\"The maximum Range the radar can see is {R} m\")"
   ]
  }
 ],
 "metadata": {
  "kernelspec": {
   "display_name": "Python 3",
   "language": "python",
   "name": "python3"
  },
  "language_info": {
   "codemirror_mode": {
    "name": "ipython",
    "version": 3
   },
   "file_extension": ".py",
   "mimetype": "text/x-python",
   "name": "python",
   "nbconvert_exporter": "python",
   "pygments_lexer": "ipython3",
   "version": "3.10.11"
  }
 },
 "nbformat": 4,
 "nbformat_minor": 2
}
