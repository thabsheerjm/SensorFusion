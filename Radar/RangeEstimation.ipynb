{
 "cells": [
  {
   "cell_type": "markdown",
   "metadata": {},
   "source": [
    "## Range Estimation Exercise\n",
    "\n",
    "Using the following MATLAB code sample, complete the TODOs to calculate the range in meters of four targets with respective measured beat frequencies [0 MHz, 1.1 MHz, 13 MHz, 24 MHz].\n",
    "\n",
    "You can use the following parameter values:\n",
    "\n",
    "    * The radar maximum range = 300m\n",
    "    * The range resolution = 1m\n",
    "    * The speed of light c = 3*10^8\n",
    "\n",
    "Note : The sweep time can be computed based on the time needed for the signal to travel the maximum range. In general, for an FMCW radar system, the sweep time should be at least 5 to 6 times the round trip time. This example uses a factor of 5.5:\n",
    "\n",
    "Tchirp=5.5⋅2⋅Rmax/c\n",
    "\n",
    "Print your answer"
   ]
  },
  {
   "cell_type": "markdown",
   "metadata": {},
   "source": [
    "### TODO 1 : Find the BSweep of chirp for 1m resolution"
   ]
  },
  {
   "cell_type": "code",
   "execution_count": 8,
   "metadata": {},
   "outputs": [
    {
     "name": "stdout",
     "output_type": "stream",
     "text": [
      "Bsweep is 150.0MHz\n"
     ]
    }
   ],
   "source": [
    "# Bsweep or Chirp Bandwidth is the difference between start frequency and stop frequency of teh chirp. \n",
    "# if the frequency sweep slope is 'S' and Chirp duration is T, then B = S X T  \n",
    "\n",
    "# or \n",
    "# delta R = c/ 2 Bsweep\n",
    "# Here delta R is given = 1m \n",
    "R = 1 \n",
    "c = 3e8\n",
    "Bsweep = c/(2*R)\n",
    "\n",
    "print(f\"Bsweep is {Bsweep*1e-6}MHz\")"
   ]
  },
  {
   "cell_type": "markdown",
   "metadata": {},
   "source": [
    "### TODO 2: Calculate the Chrip time based on the Radar's Max Range"
   ]
  },
  {
   "cell_type": "code",
   "execution_count": 7,
   "metadata": {},
   "outputs": [
    {
     "name": "stdout",
     "output_type": "stream",
     "text": [
      "Chrip time is : 1.1e-05 s\n"
     ]
    }
   ],
   "source": [
    "# Maximum Range of radar is 300m\n",
    "Rmax = 300 \n",
    "Tchirp = (5.5 * 2 * Rmax) /c\n",
    "\n",
    "print(f\"Chrip time is : {Tchirp} s\")"
   ]
  },
  {
   "cell_type": "markdown",
   "metadata": {},
   "source": [
    "### TODO 3: Define the frequency shifts \n"
   ]
  },
  {
   "cell_type": "code",
   "execution_count": 9,
   "metadata": {},
   "outputs": [],
   "source": [
    "fb = [0, 1.1e6, 13e6, 24e6] # in Hz"
   ]
  },
  {
   "cell_type": "code",
   "execution_count": 15,
   "metadata": {},
   "outputs": [
    {
     "name": "stdout",
     "output_type": "stream",
     "text": [
      "For given beat frequencies, [0, 1100000.0, 13000000.0, 24000000.0] Range in meters is [0.0, 12.1, 143.0, 264.0] respectively\n"
     ]
    }
   ],
   "source": [
    "Range = [(c * f* Tchirp)/ (2*Bsweep) for f in fb]\n",
    "print(f\"For given beat frequencies, {fb} Range in meters is {Range} respectively\")"
   ]
  }
 ],
 "metadata": {
  "kernelspec": {
   "display_name": "Python 3",
   "language": "python",
   "name": "python3"
  },
  "language_info": {
   "codemirror_mode": {
    "name": "ipython",
    "version": 3
   },
   "file_extension": ".py",
   "mimetype": "text/x-python",
   "name": "python",
   "nbconvert_exporter": "python",
   "pygments_lexer": "ipython3",
   "version": "3.10.11"
  }
 },
 "nbformat": 4,
 "nbformat_minor": 2
}
